{
 "cells": [
  {
   "cell_type": "code",
   "execution_count": 1,
   "metadata": {
    "collapsed": false
   },
   "outputs": [],
   "source": [
    "from __future__ import division\n",
    "import itertools\n",
    "\n",
    "import numpy as np\n",
    "from scipy import linalg\n",
    "from scipy.stats import multivariate_normal\n",
    "from sklearn import mixture\n",
    "%matplotlib inline\n",
    "import matplotlib as mpl\n",
    "import matplotlib.pyplot as plt"
   ]
  },
  {
   "cell_type": "code",
   "execution_count": 36,
   "metadata": {
    "collapsed": false
   },
   "outputs": [
    {
     "name": "stdout",
     "output_type": "stream",
     "text": [
      "(5000, 4)\n",
      "GaussianMixture(covariance_type='full', init_params='kmeans', max_iter=500,\n",
      "        means_init=None, n_components=5, n_init=1, precisions_init=None,\n",
      "        random_state=None, reg_covar=1e-06, tol=0.001, verbose=0,\n",
      "        verbose_interval=10, warm_start=False, weights_init=None)\n"
     ]
    }
   ],
   "source": [
    "err = 0.01\n",
    "N_GAUSSIANS = 5\n",
    "\n",
    "data = np.genfromtxt('sampled_items.csv', delimiter='|')\n",
    "data = np.delete(data, 2, 1)\n",
    "\n",
    "print data.shape\n",
    "\n",
    "gmm = mixture.GaussianMixture(n_components=N_GAUSSIANS, max_iter=500, reg_covar=1e-06).fit(data)\n",
    "print gmm\n",
    "\n",
    "mu = gmm.means_\n",
    "sigma = gmm.covariances_\n",
    "pi = gmm.weights_"
   ]
  },
  {
   "cell_type": "code",
   "execution_count": 45,
   "metadata": {
    "collapsed": false
   },
   "outputs": [
    {
     "name": "stdout",
     "output_type": "stream",
     "text": [
      "\n"
     ]
    }
   ],
   "source": [
    "def find_min(data, completeRangeJ):\n",
    "    errs = np.abs((completeRangeJ - data)/ data)\n",
    "    min_err = min(errs)\n",
    "    return min_err, np.where(errs == min_err)[0][0]"
   ]
  },
  {
   "cell_type": "code",
   "execution_count": 53,
   "metadata": {
    "collapsed": false
   },
   "outputs": [
    {
     "name": "stdout",
     "output_type": "stream",
     "text": [
      "4999 11178\n"
     ]
    }
   ],
   "source": [
    "n = data.shape[0]\n",
    "m = data.shape[1]\n",
    "\n",
    "compact = np.zeros((n, m))\n",
    "totalErrs = np.zeros((n, m))\n",
    "\n",
    "t = np.zeros((n, N_GAUSSIANS))\n",
    "mub = np.zeros((n, m, N_GAUSSIANS))\n",
    "xb = np.zeros((n, m))\n",
    "\n",
    "minDifs = np.zeros((n, m))\n",
    "minDifIdxs = np.array([[-1 for j in range(m)] for i in range(n)])\n",
    "\n",
    "totalRems = 0\n",
    "\n",
    "for i in range(n):\n",
    "    print '\\r',\n",
    "    print i,\n",
    "    \n",
    "    rangeJ = np.array([j for j in range(m) if j not in minDifIdxs[i]])\n",
    "    nRem = 0\n",
    "    \n",
    "    while(True):\n",
    "    \n",
    "        r_mu = [mu[k][rangeJ] for k in range(N_GAUSSIANS)]\n",
    "        r_sigma = [sigma[k][rangeJ][rangeJ] for k in range(N_GAUSSIANS)]\n",
    "\n",
    "        mvns = [multivariate_normal(mean, cov) for mean, cov in zip(r_mu, r_sigma)]\n",
    "\n",
    "        for k in range(N_GAUSSIANS):\n",
    "            num = pi[k]*mvns[k].pdf(data[i][rangeJ])\n",
    "            den = sum([pi[pos]*mvns[pos].pdf(data[i][rangeJ]) for pos in range(N_GAUSSIANS)])\n",
    "\n",
    "            t[i, k] = num/den\n",
    "            for j in range(m):\n",
    "                all_but_j = np.arange(m) != j\n",
    "                mub[i, j, k] = mu[k, j] + \\\n",
    "                                np.dot(np.dot(np.delete(sigma[k, j], j), \\\n",
    "                                linalg.pinv(np.delete(sigma[k, all_but_j], j, 1))), \\\n",
    "                                (data[i, all_but_j] - mu[k, all_but_j]))\n",
    "\n",
    "        xb[i, :] = sum([t[i, k]*mub[i, :, k] for k in range(N_GAUSSIANS)])\n",
    "        \n",
    "        completeRangeJ = xb[i, :]\n",
    "        completeRangeJ[np.setdiff1d(np.arange(m), rangeJ)] = np.nan\n",
    "        \n",
    "        minDif, minDifIndex = find_min(completeRangeJ, data[i])\n",
    "        minDifs[i, nRem] = minDif\n",
    "        minDifIdxs[i, nRem] = minDifIndex\n",
    "        nRem += 1\n",
    "        isErr = False\n",
    "        \n",
    "        for j2 in [j for j in minDifIdxs[i] if j != -1]:\n",
    "            erroJ2 = np.abs((xb[i,j2] - data[i,j2])/ data[i,j2])\n",
    "            limErr = data[i, j2]*err\n",
    "            if erroJ2 > limErr:\n",
    "                isErr = True\n",
    "        \n",
    "        if nRem >= m or isErr:\n",
    "            break\n",
    "        \n",
    "        compact[i] = minDifIdxs[i]\n",
    "        totalErrs[i] = minDifs[i]\n",
    "        totalRems += 1\n",
    "    \n",
    "print totalRems\n",
    "    "
   ]
  },
  {
   "cell_type": "code",
   "execution_count": 55,
   "metadata": {
    "collapsed": false
   },
   "outputs": [
    {
     "data": {
      "text/plain": [
       "0.5589"
      ]
     },
     "execution_count": 55,
     "metadata": {},
     "output_type": "execute_result"
    }
   ],
   "source": [
    "totalRems/(n*m)"
   ]
  },
  {
   "cell_type": "code",
   "execution_count": 40,
   "metadata": {
    "collapsed": false
   },
   "outputs": [
    {
     "data": {
      "text/plain": [
       "nan"
      ]
     },
     "execution_count": 40,
     "metadata": {},
     "output_type": "execute_result"
    }
   ],
   "source": []
  },
  {
   "cell_type": "code",
   "execution_count": null,
   "metadata": {
    "collapsed": true
   },
   "outputs": [],
   "source": []
  }
 ],
 "metadata": {
  "kernelspec": {
   "display_name": "Python 2",
   "language": "python",
   "name": "python2"
  },
  "language_info": {
   "codemirror_mode": {
    "name": "ipython",
    "version": 2
   },
   "file_extension": ".py",
   "mimetype": "text/x-python",
   "name": "python",
   "nbconvert_exporter": "python",
   "pygments_lexer": "ipython2",
   "version": "2.7.6"
  }
 },
 "nbformat": 4,
 "nbformat_minor": 1
}
