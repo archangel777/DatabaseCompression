{
 "cells": [
  {
   "cell_type": "code",
   "execution_count": 1,
   "metadata": {
    "collapsed": false
   },
   "outputs": [
    {
     "data": {
      "text/plain": [
       "{'divide': 'warn', 'invalid': 'warn', 'over': 'warn', 'under': 'ignore'}"
      ]
     },
     "execution_count": 1,
     "metadata": {},
     "output_type": "execute_result"
    }
   ],
   "source": [
    "from __future__ import division\n",
    "import itertools\n",
    "\n",
    "import numpy as np\n",
    "from scipy import linalg\n",
    "from scipy.stats import multivariate_normal, normaltest\n",
    "from sklearn import mixture\n",
    "from sklearn.datasets import load_iris\n",
    "%matplotlib inline\n",
    "import matplotlib as mpl\n",
    "import matplotlib.pyplot as plt\n",
    "import copy\n",
    "import time\n",
    "np.seterr(divide='ignore', invalid='ignore')"
   ]
  },
  {
   "cell_type": "code",
   "execution_count": 50,
   "metadata": {
    "collapsed": false
   },
   "outputs": [],
   "source": [
    "class StopWatch:\n",
    "    def __init__(self):\n",
    "        self.time = 0\n",
    "        self.start_time = 0\n",
    "    \n",
    "    def reset(self):\n",
    "        self.time = 0\n",
    "    \n",
    "    def start(self):\n",
    "        self.start_time = time.time()\n",
    "        \n",
    "    def stop(self):\n",
    "        self.time += time.time() - self.start_time\n",
    "\n",
    "class MyModel:\n",
    "    def __init__(self, n_gauss=5, err=0.01, data_size=64):\n",
    "        self.err = err\n",
    "        self.n_gauss = n_gauss\n",
    "        self.data = None\n",
    "        self.data_size = data_size\n",
    "        self.watches = {}\n",
    "        \n",
    "    def load_data(self, dataset='iris'):\n",
    "        if dataset == 'iris':\n",
    "            self.data = load_iris(return_X_y=True)[0]\n",
    "        elif dataset == 'iris_complete':\n",
    "            self.data = load_iris(return_X_y=True)\n",
    "            aux = np.array([[i] for i in self.data[1]])\n",
    "            self.data = np.append(self.data[0], aux, axis=1)\n",
    "        elif dataset == 'tpc-h-5k':\n",
    "            self.data = np.delete(np.genfromtxt('sampled_items.csv', delimiter='|'), 2, 1)\n",
    "        elif dataset == 'tpc-h-full':\n",
    "            self.data = np.delete(np.genfromtxt('sampled_items_full.csv', delimiter='|'), 2, 1)\n",
    "        \n",
    "        if self.data is not None:\n",
    "            self.n = self.data.shape[0]\n",
    "            self.m = self.data.shape[1]\n",
    "    \n",
    "    def test_normality(self, column):\n",
    "        z, pval = normaltest(self.data[:, column])\n",
    "        print z, pval\n",
    "        if(pval < 0.055):\n",
    "            print \"Not normal distribution\"\n",
    "        else:\n",
    "            print \"Normaaaaal!\"\n",
    "        \n",
    "    def train(self, show=False):\n",
    "        if self.data is None:\n",
    "            print 'No data!'\n",
    "            return\n",
    "        self.gmm = mixture.GaussianMixture(n_components=self.n_gauss, max_iter=500).fit(self.data)\n",
    "        self.mu = self.gmm.means_\n",
    "        self.sigma = self.gmm.covariances_\n",
    "        self.pi = self.gmm.weights_\n",
    "        self.load_sigma_dots()\n",
    "        self.anti_j = [np.arange(self.m) != j for j in range(self.m)]\n",
    "        if show:\n",
    "            print self.gmm\n",
    "        \n",
    "    def get_err_vec(self, data, completeRangeJ):\n",
    "        return np.abs((completeRangeJ - data)/ data)\n",
    "\n",
    "    def find_min(self, data, completeRangeJ):\n",
    "        errs = self.get_err_vec(data, completeRangeJ)\n",
    "        min_err = min(errs)\n",
    "        try:\n",
    "            return min_err, np.where(errs == min_err)[0][0]\n",
    "        except:\n",
    "            return np.inf, -1\n",
    "        \n",
    "    def load_sigma_dots(self):\n",
    "        sigma_inverses = np.array(  [\n",
    "                            [linalg.pinv(np.delete(np.delete(self.sigma[k], j, 0), j, 1)) for j in range(self.m)] \n",
    "                            for k in range(self.n_gauss)\n",
    "                        ])\n",
    "        self.sigma_dots = np.array(  [\n",
    "                            [np.dot(np.delete(self.sigma[k, j], j), sigma_inverses[k, j]) for j in range(self.m)] \n",
    "                            for k in range(self.n_gauss)\n",
    "                        ])\n",
    "        \n",
    "    def reset_values(self):\n",
    "        self.mvns = {}\n",
    "        \n",
    "        self.compact = np.zeros((self.n, self.m))\n",
    "        self.totalErrs = np.zeros((self.n, self.m))\n",
    "\n",
    "        self.t = np.zeros((self.n, self.n_gauss))\n",
    "        self.mub = np.zeros((self.n, self.m, self.n_gauss))\n",
    "        self.xb = np.zeros((self.n, self.m))\n",
    "\n",
    "        self.minDifs = np.zeros((self.n, self.m))\n",
    "        self.minDifIdxs = np.array([[-1 for j in range(self.m)] for i in range(self.n)])\n",
    "\n",
    "        self.totalRems = 0\n",
    "        \n",
    "    def get_mub_helper(self):\n",
    "        return np.array([\n",
    "                    [self.mu[k, j] - \\\n",
    "                        np.dot(\n",
    "                            self.sigma_dots[k, j], self.mu[k, self.anti_j[j]]\n",
    "                        ) \n",
    "                    for j in range(self.m)]\n",
    "                for k in range(self.n_gauss)])\n",
    "        \n",
    "    def get_mub(self, i):\n",
    "        return np.array([\n",
    "                    [self.mub_helper[k, j] + \\\n",
    "                        np.dot(\n",
    "                            self.sigma_dots[k, j], self.data[i, self.anti_j[j]]\n",
    "                        ) \n",
    "                    for j in range(self.m)]\n",
    "                for k in range(self.n_gauss)])\n",
    "    \n",
    "    def get_t(self, i, rangeJ, tup_rangeJ):\n",
    "        pdfs = [self.mvns[tup_rangeJ][k].pdf(self.data[i][rangeJ]) for k in range(self.n_gauss)]\n",
    "        \n",
    "        den = sum([self.pi[pos]*pdfs[pos] for pos in range(self.n_gauss)])\n",
    "        return [self.pi[k]*pdfs[k] / den for k in range(self.n_gauss)]\n",
    "    \n",
    "    def run(self, prefix=''):\n",
    "        self.reset_values()\n",
    "        self.mub_helper = self.get_mub_helper()\n",
    "        \n",
    "        self.watches['total_watch'] = StopWatch()\n",
    "        self.watches['pred_watch'] = StopWatch()\n",
    "        self.watches['mub_watch'] = StopWatch()\n",
    "\n",
    "        self.watches['total_watch'].start()\n",
    "        for i in range(self.n):\n",
    "            if i%(self.n//100) == 0 or i == self.n-1:\n",
    "                print '\\r',\n",
    "                print '{} {} / {}'.format(prefix, i+1, self.n),\n",
    "\n",
    "            nRem = 0\n",
    "\n",
    "            #--------------------------------------------------------- \n",
    "            # First bottleneck\n",
    "            self.watches['mub_watch'].start()\n",
    "            mub = self.get_mub(i)\n",
    "            self.watches['mub_watch'].stop()\n",
    "            #--------------------------------------------------------- \n",
    "\n",
    "            while(True):\n",
    "                \n",
    "                rangeJ = np.array([j for j in range(self.m) if j not in self.minDifIdxs[i]])\n",
    "                tup_rangeJ = tuple(rangeJ)\n",
    "                \n",
    "                #---------------------------------------------------------\n",
    "                if tup_rangeJ not in self.mvns:\n",
    "                    r_mu = [self.mu[k, rangeJ] for k in range(self.n_gauss)]\n",
    "                    r_sigma = [np.take(self.sigma[k, rangeJ], rangeJ, axis=1) for k in range(self.n_gauss)]\n",
    "\n",
    "                    self.mvns[tup_rangeJ] = [multivariate_normal(mean, cov) for mean, cov in zip(r_mu, r_sigma)]\n",
    "                #---------------------------------------------------------\n",
    "\n",
    "                #--------------------------------------------------------- \n",
    "                # Second bottleneck\n",
    "                self.watches['pred_watch'].start()\n",
    "                t = self.get_t(i, rangeJ, tup_rangeJ)\n",
    "                self.watches['pred_watch'].stop()\n",
    "                #---------------------------------------------------------\n",
    "                self.xb[i] = [sum([t[k]*mub[k, j] for k in range(self.n_gauss)]) for j in range(self.m)]\n",
    "                \n",
    "                erros = self.get_err_vec(self.data[i], self.xb[i])\n",
    "            \n",
    "                completeRangeJ = self.xb[i]\n",
    "                for j in range(self.m):\n",
    "                    if j not in rangeJ:\n",
    "                        completeRangeJ[j] = np.inf\n",
    "                \n",
    "                minDif, minDifIndex = self.find_min(self.data[i], completeRangeJ)\n",
    "                #print minDif, minDifIndex\n",
    "                if minDif > self.err:\n",
    "                    break\n",
    "                    \n",
    "                isErr = False\n",
    "                for j2 in [j for j in self.minDifIdxs[i] if j != -1]:\n",
    "                    if erros[j2] > self.err:\n",
    "                        isErr = True\n",
    "\n",
    "                if nRem + 1 >= self.m or isErr:\n",
    "                    break\n",
    "\n",
    "                self.minDifs[i, nRem] = minDif\n",
    "                self.minDifIdxs[i, nRem] = minDifIndex\n",
    "\n",
    "                nRem += 1\n",
    "\n",
    "                self.totalErrs[i] = self.minDifs[i]\n",
    "                self.totalRems += 1\n",
    "\n",
    "            self.compact[i] = self.minDifIdxs[i]\n",
    "\n",
    "        self.watches['total_watch'].stop()\n",
    "        \n",
    "        original_space = self.m*self.n*self.data_size\n",
    "        data_space = (self.m * self.n - self.totalRems) * self.data_size + self.totalRems\n",
    "        final_space = data_space + (self.m * self.n_gauss * (self.m + 1) + self.n_gauss) * self.data_size\n",
    "        \n",
    "        self.relative_data_space = data_space/original_space * 100\n",
    "        self.relative_final_space = final_space/original_space * 100\n",
    "        \n",
    "    def print_statistics(self):\n",
    "        print '\\n----------------------------------------------'\n",
    "        print '\\nTotal rems: {}'.format(self.totalRems)\n",
    "        print 'Rem percentage: {:.2f}%'.format(self.totalRems/(self.n*self.m) * 100)\n",
    "        print '\\n----------------------------------------------'\n",
    "    \n",
    "    def print_times(self):\n",
    "        print '\\n----------------------------------------------'\n",
    "        print 'Total time: {:.2f}s'.format(self.watches['total_watch'].time)\n",
    "        for watch in [w for w in self.watches if w != 'total_watch']:\n",
    "            print '{} time: {:.2f}s'.format(watch, self.watches[watch].time)\n",
    "            print '{} time percentage: {:.2f}%'.format(watch, self.watches[watch].time/self.watches['total_watch'].time * 100)\n",
    "        print '----------------------------------------------'\n",
    "        \n",
    "    def print_final_space(self):\n",
    "        print '\\n----------------------------------------------'\n",
    "        print 'Percentage relative to original: {:.2f}%'.format(self.relative_final_space)\n",
    "        print 'Percentage without the matrices: {:.2f}%'.format(self.relative_data_space)\n",
    "        print '\\n----------------------------------------------'"
   ]
  },
  {
   "cell_type": "code",
   "execution_count": 59,
   "metadata": {
    "collapsed": false,
    "scrolled": true
   },
   "outputs": [],
   "source": [
    "model = MyModel(n_gauss=40, err=0.01)\n",
    "#model.load_data('iris_complete')\n",
    "#model.load_data('iris')\n",
    "model.load_data('tpc-h-5k')\n",
    "#model.load_data('tpc-h-full')"
   ]
  },
  {
   "cell_type": "code",
   "execution_count": 60,
   "metadata": {
    "collapsed": false
   },
   "outputs": [
    {
     "name": "stdout",
     "output_type": "stream",
     "text": [
      " 5000 / 5000 \n",
      "----------------------------------------------\n",
      "Total time: 9.67s\n",
      "mub_watch time: 2.15s\n",
      "mub_watch time percentage: 22.29%\n",
      "err_vec_watch time: 0.04s\n",
      "err_vec_watch time percentage: 0.46%\n",
      "pred_watch time: 6.58s\n",
      "pred_watch time percentage: 68.04%\n",
      "find_min_watch time: 0.10s\n",
      "find_min_watch time percentage: 1.08%\n",
      "range_j_watch time: 0.12s\n",
      "range_j_watch time percentage: 1.19%\n",
      "----------------------------------------------\n",
      "\n",
      "----------------------------------------------\n",
      "Percentage relative to original: 79.56%\n",
      "Percentage without the matrices: 75.36%\n",
      "\n",
      "----------------------------------------------\n"
     ]
    }
   ],
   "source": [
    "model.train()\n",
    "\n",
    "model.run()\n",
    "\n",
    "model.print_times()\n",
    "\n",
    "#model.print_statistics()\n",
    "\n",
    "model.print_final_space()"
   ]
  },
  {
   "cell_type": "code",
   "execution_count": 31,
   "metadata": {
    "collapsed": false
   },
   "outputs": [
    {
     "name": "stdout",
     "output_type": "stream",
     "text": [
      "6483128.88183 0.0\n",
      "Not normal distribution\n"
     ]
    }
   ],
   "source": [
    "model.test_normality(2)"
   ]
  },
  {
   "cell_type": "code",
   "execution_count": 61,
   "metadata": {
    "collapsed": false
   },
   "outputs": [
    {
     "name": "stdout",
     "output_type": "stream",
     "text": [
      "50 -  5000 / 5000"
     ]
    },
    {
     "data": {
      "image/png": "[encoded data removed]",
      "text/plain": [
       "<matplotlib.figure.Figure at 0x7fdb60b33ad0>"
      ]
     },
     "metadata": {},
     "output_type": "display_data"
    },
    {
     "name": "stdout",
     "output_type": "stream",
     "text": [
      "\n"
     ]
    }
   ],
   "source": [
    "def plot_gauss(n, repeat, dataset, e):\n",
    "    x = [i+1 for i in range(n)]\n",
    "    y = []\n",
    "    for i in x:\n",
    "        model = MyModel(n_gauss=i, err=e)\n",
    "        model.load_data(dataset)\n",
    "        mean = 0\n",
    "        for j in range(repeat):\n",
    "            model.train()\n",
    "            model.run(prefix='{} - '.format(i))\n",
    "            mean += model.relative_final_space\n",
    "        y.append(mean/repeat)\n",
    "    \n",
    "    plt.plot(x, y)\n",
    "    plt.show()\n",
    "\n",
    "plot_gauss(50, 10, 'tpc-h-5k', 0.01)\n",
    "        "
   ]
  },
  {
   "cell_type": "code",
   "execution_count": null,
   "metadata": {
    "collapsed": true
   },
   "outputs": [],
   "source": []
  }
 ],
 "metadata": {
  "kernelspec": {
   "display_name": "Python 2",
   "language": "python",
   "name": "python2"
  },
  "language_info": {
   "codemirror_mode": {
    "name": "ipython",
    "version": 2
   },
   "file_extension": ".py",
   "mimetype": "text/x-python",
   "name": "python",
   "nbconvert_exporter": "python",
   "pygments_lexer": "ipython2",
   "version": "2.7.6"
  }
 },
 "nbformat": 4,
 "nbformat_minor": 1
}
