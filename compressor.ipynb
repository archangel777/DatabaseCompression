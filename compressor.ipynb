{
 "cells": [
  {
   "cell_type": "code",
   "execution_count": 57,
   "metadata": {
    "collapsed": true
   },
   "outputs": [],
   "source": [
    "#Imports needed\n",
    "import numpy as np\n",
    "import scipy as scp\n",
    "import sklearn as skp\n",
    "import os\n",
    "import sys\n",
    "import csv\n",
    "\n",
    "\n",
    "#Import data\n",
    "src = os.getcwd() + \"/DoutoradoWorkspace/Python/\" \\\n",
    "                    \"Compression/DatabaseCompression/treated_data.csv\"\n",
    "with open(src, newline='') as f:\n",
    "    reader = csv.reader(f,delimiter='|')\n",
    "    data = list(reader);\n",
    "    X = np.matrix(data);\n",
    "#print(data) #Careful too much data\n",
    "\n",
    "#TODO Treat data"
   ]
  },
  {
   "cell_type": "code",
   "execution_count": null,
   "metadata": {},
   "outputs": [],
   "source": []
  }
 ],
 "metadata": {
  "kernelspec": {
   "display_name": "Python 3",
   "language": "python",
   "name": "python3"
  },
  "language_info": {
   "codemirror_mode": {
    "name": "ipython",
    "version": 3
   },
   "file_extension": ".py",
   "mimetype": "text/x-python",
   "name": "python",
   "nbconvert_exporter": "python",
   "pygments_lexer": "ipython3",
   "version": "3.4.2"
  }
 },
 "nbformat": 4,
 "nbformat_minor": 1
}
