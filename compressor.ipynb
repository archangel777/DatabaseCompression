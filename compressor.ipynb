{
 "cells": [
  {
   "cell_type": "code",
   "execution_count": 2,
   "metadata": {
    "collapsed": false
   },
   "outputs": [],
   "source": [
    "import itertools\n",
    "\n",
    "import numpy as np\n",
    "from scipy import linalg\n",
    "from scipy.stats import multivariate_normal\n",
    "from sklearn import mixture\n",
    "%matplotlib inline\n",
    "import matplotlib as mpl\n",
    "import matplotlib.pyplot as plt"
   ]
  },
  {
   "cell_type": "code",
   "execution_count": 3,
   "metadata": {
    "collapsed": false
   },
   "outputs": [],
   "source": [
    "color_iter = itertools.cycle(['navy', 'c', 'cornflowerblue', 'gold', 'darkorange'])\n",
    "\n",
    "def plot_results(X, Y_, means, covariances, index, title):\n",
    "    splot = plt.subplot(2, 2, 1 + index)\n",
    "    for i, (mean, covar, color) in enumerate(zip(\n",
    "            means, covariances, color_iter)):\n",
    "        v, w = linalg.eigh(covar)\n",
    "        v = 2. * np.sqrt(2.) * np.sqrt(v)\n",
    "        u = w[0] / linalg.norm(w[0])\n",
    "        # as the DP will not use every component it has access to\n",
    "        # unless it needs it, we shouldn't plot the redundant\n",
    "        # components.\n",
    "        if not np.any(Y_ == i):\n",
    "            continue\n",
    "        plt.scatter(X[Y_ == i, 0], X[Y_ == i, 1], .8, color=color)\n",
    "\n",
    "        # Plot an ellipse to show the Gaussian component\n",
    "        angle = np.arctan(u[1] / u[0])\n",
    "        angle = 180. * angle / np.pi  # convert to degrees\n",
    "        ell = mpl.patches.Ellipse(mean, v[0], v[1], 180. + angle, color=color)\n",
    "        ell.set_clip_box(splot.bbox)\n",
    "        ell.set_alpha(0.5)\n",
    "        splot.add_artist(ell)\n",
    "\n",
    "    plt.xlim(-20., 20.)\n",
    "    plt.ylim(-40., 80.)\n",
    "    plt.xticks(())\n",
    "    plt.yticks(())\n",
    "    plt.title(title)"
   ]
  },
  {
   "cell_type": "code",
   "execution_count": 35,
   "metadata": {
    "collapsed": false
   },
   "outputs": [
    {
     "name": "stdout",
     "output_type": "stream",
     "text": [
      "(5000, 5)\n",
      "(5, 5)\n",
      "(5, 5, 5)\n"
     ]
    }
   ],
   "source": [
    "N_GAUSSIANS = 5\n",
    "\n",
    "data = np.genfromtxt('sampled_items.csv', delimiter='|')\n",
    "\n",
    "print data.shape\n",
    "\n",
    "gmm = mixture.GaussianMixture(n_components=N_GAUSSIANS, max_iter=500).fit(data)\n",
    "\n",
    "mu = gmm.means_\n",
    "sigma = gmm.covariances_\n",
    "\n",
    "print mu.shape\n",
    "print sigma.shape"
   ]
  },
  {
   "cell_type": "code",
   "execution_count": 36,
   "metadata": {
    "collapsed": false
   },
   "outputs": [
    {
     "name": "stdout",
     "output_type": "stream",
     "text": [
      "[  3.20768151e+00   2.15235666e+01   2.41154619e+04   4.83390176e-02\n",
      "   4.05442284e-02]\n",
      "[  2.00000000e+00   1.60000000e+01   3.17105600e+04   7.00000000e-02\n",
      "   4.00000000e-02]\n"
     ]
    }
   ],
   "source": [
    "v = (0,1,3,4)\n",
    "n = data.shape[0]\n",
    "m = data.shape[1]\n",
    "\n",
    "t = np.zeros((n, N_GAUSSIANS))\n",
    "mub = np.zeros((n, m, N_GAUSSIANS))\n",
    "xb = np.zeros((n, m))\n",
    "\n",
    "mvns = [multivariate_normal(mu[i, v], sigma[i, v, v]) for i in range(N_GAUSSIANS)]\n",
    "\n",
    "for i in [0]:\n",
    "    for k in range(N_GAUSSIANS):\n",
    "        num = mvns[k].pdf(data[i, v]) \n",
    "        den = sum([mvns[pos].pdf(data[i, v]) for pos in range(N_GAUSSIANS)])\n",
    "            \n",
    "        t[i, k] = num/den\n",
    "        for j in range(m):\n",
    "            all_but_j = np.arange(m) != j\n",
    "            mub[i, j, k] = mu[k, j] + \\\n",
    "                            np.dot(np.dot(np.delete(sigma[k, j], j), \\\n",
    "                            linalg.pinv(np.delete(sigma[k, all_but_j], j, 1))), \\\n",
    "                            (data[i, all_but_j] - mu[k, all_but_j]))\n",
    "    \n",
    "    xb[i, :] = sum([t[i, k]*mub[i, :, k] for k in range(N_GAUSSIANS)])\n",
    "    print xb[i]\n",
    "    print data[i]"
   ]
  },
  {
   "cell_type": "code",
   "execution_count": null,
   "metadata": {
    "collapsed": true
   },
   "outputs": [],
   "source": []
  }
 ],
 "metadata": {
  "kernelspec": {
   "display_name": "Python 2",
   "language": "python",
   "name": "python2"
  },
  "language_info": {
   "codemirror_mode": {
    "name": "ipython",
    "version": 2
   },
   "file_extension": ".py",
   "mimetype": "text/x-python",
   "name": "python",
   "nbconvert_exporter": "python",
   "pygments_lexer": "ipython2",
   "version": "2.7.6"
  }
 },
 "nbformat": 4,
 "nbformat_minor": 1
}
