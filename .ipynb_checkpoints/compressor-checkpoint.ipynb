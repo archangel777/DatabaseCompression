{
 "cells": [
  {
   "cell_type": "code",
   "execution_count": 2,
   "metadata": {
    "collapsed": false
   },
   "outputs": [
    {
     "data": {
      "text/plain": [
       "{'divide': 'warn', 'invalid': 'warn', 'over': 'warn', 'under': 'ignore'}"
      ]
     },
     "execution_count": 2,
     "metadata": {},
     "output_type": "execute_result"
    }
   ],
   "source": [
    "from __future__ import division\n",
    "import itertools\n",
    "\n",
    "import numpy as np\n",
    "from scipy import linalg\n",
    "from scipy.stats import multivariate_normal, normaltest\n",
    "from sklearn import mixture\n",
    "from sklearn.datasets import load_iris\n",
    "%matplotlib inline\n",
    "import matplotlib as mpl\n",
    "import matplotlib.pyplot as plt\n",
    "import copy\n",
    "import time\n",
    "np.seterr(divide='ignore', invalid='ignore')"
   ]
  },
  {
   "cell_type": "code",
   "execution_count": 12,
   "metadata": {
    "collapsed": false
   },
   "outputs": [],
   "source": [
    "class StopWatch:\n",
    "    def __init__(self):\n",
    "        self.time = 0\n",
    "        self.start_time = 0\n",
    "    \n",
    "    def reset(self):\n",
    "        self.time = 0\n",
    "    \n",
    "    def start(self):\n",
    "        self.start_time = time.time()\n",
    "        \n",
    "    def stop(self):\n",
    "        self.time += time.time() - self.start_time\n",
    "\n",
    "class MyModel:\n",
    "    def __init__(self, n_gauss=5, err=0.01, data_size=64):\n",
    "        self.err = err\n",
    "        self.n_gauss = n_gauss\n",
    "        self.data = None\n",
    "        self.data_size = data_size\n",
    "        self.watches = {}\n",
    "        \n",
    "    def load_data(self, dataset='iris'):\n",
    "        if dataset == 'iris':\n",
    "            self.data = load_iris(return_X_y=True)[0]\n",
    "        elif dataset == 'iris_complete':\n",
    "            self.data = load_iris(return_X_y=True)\n",
    "            aux = np.array([[i] for i in self.data[1]])\n",
    "            self.data = np.append(self.data[0], aux, axis=1)\n",
    "        elif dataset == 'tpc-h-5k':\n",
    "            self.data = np.delete(np.genfromtxt('sampled_items.csv', delimiter='|'), 2, 1)\n",
    "        elif dataset == 'tpc-h-full':\n",
    "            self.data = np.delete(np.genfromtxt('sampled_items_full.csv', delimiter='|'), 2, 1)\n",
    "        \n",
    "        if self.data is not None:\n",
    "            self.n = self.data.shape[0]\n",
    "            self.m = self.data.shape[1]\n",
    "    \n",
    "    def test_normality(self, column):\n",
    "        z, pval = normaltest(self.data[:, column])\n",
    "        print z, pval\n",
    "        if(pval < 0.055):\n",
    "            print \"Not normal distribution\"\n",
    "        else:\n",
    "            print \"Normaaaaal!\"\n",
    "        \n",
    "    def train(self, show=False):\n",
    "        if self.data is None:\n",
    "            print 'No data!'\n",
    "            return\n",
    "        self.gmm = mixture.GaussianMixture(n_components=self.n_gauss, max_iter=500).fit(self.data)\n",
    "        self.mu = self.gmm.means_\n",
    "        self.sigma = self.gmm.covariances_\n",
    "        self.pi = self.gmm.weights_\n",
    "        self.load_sigma_dots()\n",
    "        self.anti_j = [np.arange(self.m) != j for j in range(self.m)]\n",
    "        if show:\n",
    "            print self.gmm\n",
    "        \n",
    "    def get_err_vec(self, data, completeRangeJ):\n",
    "        return np.abs((completeRangeJ - data)/ data)\n",
    "\n",
    "    def find_min(self, data, completeRangeJ):\n",
    "        errs = self.get_err_vec(data, completeRangeJ)\n",
    "        min_err = min(errs)\n",
    "        try:\n",
    "            return min_err, np.where(errs == min_err)[0][0]\n",
    "        except:\n",
    "            return np.inf, -1\n",
    "        \n",
    "    def load_sigma_dots(self):\n",
    "        sigma_inverses = np.array(  [\n",
    "                            [linalg.pinv(np.delete(np.delete(self.sigma[k], j, 0), j, 1)) for j in range(self.m)] \n",
    "                            for k in range(self.n_gauss)\n",
    "                        ])\n",
    "        self.sigma_dots = np.array(  [\n",
    "                            [np.dot(np.delete(self.sigma[k, j], j), sigma_inverses[k, j]) for j in range(self.m)] \n",
    "                            for k in range(self.n_gauss)\n",
    "                        ])\n",
    "        \n",
    "    def reset_values(self):\n",
    "        self.mvns = {}\n",
    "        \n",
    "        self.compact = np.zeros((self.n, self.m))\n",
    "        self.totalErrs = np.zeros((self.n, self.m))\n",
    "\n",
    "        self.t = np.zeros((self.n, self.n_gauss))\n",
    "        self.mub = np.zeros((self.n, self.m, self.n_gauss))\n",
    "        self.xb = np.zeros((self.n, self.m))\n",
    "\n",
    "        self.minDifs = np.zeros((self.n, self.m))\n",
    "        self.minDifIdxs = np.array([[-1 for j in range(self.m)] for i in range(self.n)])\n",
    "\n",
    "        self.totalRems = 0\n",
    "        \n",
    "    def get_mub_helper(self):\n",
    "        return np.array([\n",
    "                    [self.mu[k, j] - \\\n",
    "                        np.dot(\n",
    "                            self.sigma_dots[k, j], self.mu[k, self.anti_j[j]]\n",
    "                        ) \n",
    "                    for j in range(self.m)]\n",
    "                for k in range(self.n_gauss)])\n",
    "        \n",
    "    def get_mub(self, i):\n",
    "        return np.array([\n",
    "                    [self.mub_helper[k, j] + \\\n",
    "                        np.dot(\n",
    "                            self.sigma_dots[k, j], self.data[i, self.anti_j[j]]\n",
    "                        ) \n",
    "                    for j in range(self.m)]\n",
    "                for k in range(self.n_gauss)])\n",
    "    \n",
    "    def get_t(self, i, rangeJ, tup_rangeJ):\n",
    "        pdfs = [self.mvns[tup_rangeJ][k].pdf(self.data[i][rangeJ]) for k in range(self.n_gauss)]\n",
    "        \n",
    "        den = sum([self.pi[pos]*pdfs[pos] for pos in range(self.n_gauss)])\n",
    "        return [self.pi[k]*pdfs[k] / den for k in range(self.n_gauss)]\n",
    "    \n",
    "    def run(self, prefix=''):\n",
    "        self.reset_values()\n",
    "        self.mub_helper = self.get_mub_helper()\n",
    "        \n",
    "        self.watches['total_watch'] = StopWatch()\n",
    "        self.watches['pred_watch'] = StopWatch()\n",
    "        self.watches['mub_watch'] = StopWatch()\n",
    "\n",
    "        self.watches['total_watch'].start()\n",
    "        for i in range(self.n):\n",
    "            if i%(self.n//100) == 0 or i == self.n-1:\n",
    "                print '\\r',\n",
    "                print '{} {} / {}'.format(prefix, i+1, self.n),\n",
    "\n",
    "            nRem = 0\n",
    "\n",
    "            #--------------------------------------------------------- \n",
    "            # First bottleneck\n",
    "            self.watches['mub_watch'].start()\n",
    "            mub = self.get_mub(i)\n",
    "            self.watches['mub_watch'].stop()\n",
    "            #--------------------------------------------------------- \n",
    "\n",
    "            while(True):\n",
    "                \n",
    "                rangeJ = np.array([j for j in range(self.m) if j not in self.minDifIdxs[i]])\n",
    "                tup_rangeJ = tuple(rangeJ)\n",
    "                \n",
    "                #---------------------------------------------------------\n",
    "                if tup_rangeJ not in self.mvns:\n",
    "                    r_mu = [self.mu[k, rangeJ] for k in range(self.n_gauss)]\n",
    "                    r_sigma = [np.take(self.sigma[k, rangeJ], rangeJ, axis=1) for k in range(self.n_gauss)]\n",
    "\n",
    "                    self.mvns[tup_rangeJ] = [multivariate_normal(mean, cov) for mean, cov in zip(r_mu, r_sigma)]\n",
    "                #---------------------------------------------------------\n",
    "\n",
    "                #--------------------------------------------------------- \n",
    "                # Second bottleneck\n",
    "                self.watches['pred_watch'].start()\n",
    "                t = self.get_t(i, rangeJ, tup_rangeJ)\n",
    "                self.watches['pred_watch'].stop()\n",
    "                #---------------------------------------------------------\n",
    "                self.xb[i] = [sum([t[k]*mub[k, j] for k in range(self.n_gauss)]) for j in range(self.m)]\n",
    "                \n",
    "                erros = self.get_err_vec(self.data[i], self.xb[i])\n",
    "            \n",
    "                completeRangeJ = self.xb[i]\n",
    "                for j in range(self.m):\n",
    "                    if j not in rangeJ:\n",
    "                        completeRangeJ[j] = np.inf\n",
    "                \n",
    "                minDif, minDifIndex = self.find_min(self.data[i], completeRangeJ)\n",
    "                #print minDif, minDifIndex\n",
    "                if minDif > self.err:\n",
    "                    break\n",
    "                    \n",
    "                isErr = False\n",
    "                for j2 in [j for j in self.minDifIdxs[i] if j != -1]:\n",
    "                    if erros[j2] > self.err:\n",
    "                        isErr = True\n",
    "\n",
    "                if nRem + 1 >= self.m or isErr:\n",
    "                    break\n",
    "\n",
    "                self.minDifs[i, nRem] = minDif\n",
    "                self.minDifIdxs[i, nRem] = minDifIndex\n",
    "\n",
    "                nRem += 1\n",
    "\n",
    "                self.totalErrs[i] = self.minDifs[i]\n",
    "                self.totalRems += 1\n",
    "\n",
    "            self.compact[i] = self.minDifIdxs[i]\n",
    "\n",
    "        self.watches['total_watch'].stop()\n",
    "        \n",
    "        original_space = self.m*self.n*self.data_size\n",
    "        data_space = (self.m * self.n - self.totalRems) * self.data_size + self.totalRems\n",
    "        final_space = data_space + (self.m * self.n_gauss * (self.m + 1) + self.n_gauss) * self.data_size\n",
    "        \n",
    "        self.compression = (1-data_space/original_space) * 100\n",
    "        self.raw_compression = (1-final_space/original_space) * 100\n",
    "        \n",
    "    def print_statistics(self):\n",
    "        print '\\n----------------------------------------------'\n",
    "        print '\\nTotal rems: {}'.format(self.totalRems)\n",
    "        print '\\nRem percentage: {:.2f}%'.format(self.totalRems/(self.n*self.m) * 100)\n",
    "        print '\\n----------------------------------------------'\n",
    "    \n",
    "    def print_times(self):\n",
    "        print '\\n----------------------------------------------'\n",
    "        print 'Total time: {:.2f}s'.format(self.watches['total_watch'].time)\n",
    "        for watch in [w for w in self.watches if w != 'total_watch']:\n",
    "            print '{} time: {:.2f}s'.format(watch, self.watches[watch].time)\n",
    "            print '{} time percentage: {:.2f}%'.format(watch, self.watches[watch].time/self.watches['total_watch'].time * 100)\n",
    "        print '----------------------------------------------'\n",
    "        \n",
    "    def print_final_space(self):\n",
    "        print '\\n----------------------------------------------'\n",
    "        print 'Compression: {:.2f}%'.format(self.compression)\n",
    "        print 'Compression without the matrices: {:.2f}%'.format(self.raw_compression)\n",
    "        print '\\n----------------------------------------------'"
   ]
  },
  {
   "cell_type": "code",
   "execution_count": 13,
   "metadata": {
    "collapsed": false,
    "scrolled": true
   },
   "outputs": [],
   "source": [
    "model = MyModel(n_gauss=10, err=0.05)\n",
    "#model.load_data('iris_complete')\n",
    "#model.load_data('iris')\n",
    "#model.load_data('tpc-h-5k')\n",
    "model.load_data('tpc-h-full')"
   ]
  },
  {
   "cell_type": "code",
   "execution_count": 14,
   "metadata": {
    "collapsed": false
   },
   "outputs": [
    {
     "ename": "MemoryError",
     "evalue": "",
     "output_type": "error",
     "traceback": [
      "\u001b[0;31m---------------------------------------------------------------------------\u001b[0m",
      "\u001b[0;31mMemoryError\u001b[0m                               Traceback (most recent call last)",
      "\u001b[0;32m<ipython-input-14-bdc52d255255>\u001b[0m in \u001b[0;36m<module>\u001b[0;34m()\u001b[0m\n\u001b[0;32m----> 1\u001b[0;31m \u001b[0mmodel\u001b[0m\u001b[0;34m.\u001b[0m\u001b[0mtrain\u001b[0m\u001b[0;34m(\u001b[0m\u001b[0;34m)\u001b[0m\u001b[0;34m\u001b[0m\u001b[0m\n\u001b[0m\u001b[1;32m      2\u001b[0m \u001b[0;34m\u001b[0m\u001b[0m\n\u001b[1;32m      3\u001b[0m \u001b[0mmodel\u001b[0m\u001b[0;34m.\u001b[0m\u001b[0mrun\u001b[0m\u001b[0;34m(\u001b[0m\u001b[0;34m)\u001b[0m\u001b[0;34m\u001b[0m\u001b[0m\n\u001b[1;32m      4\u001b[0m \u001b[0;34m\u001b[0m\u001b[0m\n\u001b[1;32m      5\u001b[0m \u001b[0mmodel\u001b[0m\u001b[0;34m.\u001b[0m\u001b[0mprint_times\u001b[0m\u001b[0;34m(\u001b[0m\u001b[0;34m)\u001b[0m\u001b[0;34m\u001b[0m\u001b[0m\n",
      "\u001b[0;32m<ipython-input-12-db5f9ff81813>\u001b[0m in \u001b[0;36mtrain\u001b[0;34m(self, show)\u001b[0m\n\u001b[1;32m     49\u001b[0m             \u001b[0;32mprint\u001b[0m \u001b[0;34m'No data!'\u001b[0m\u001b[0;34m\u001b[0m\u001b[0m\n\u001b[1;32m     50\u001b[0m             \u001b[0;32mreturn\u001b[0m\u001b[0;34m\u001b[0m\u001b[0m\n\u001b[0;32m---> 51\u001b[0;31m         \u001b[0mself\u001b[0m\u001b[0;34m.\u001b[0m\u001b[0mgmm\u001b[0m \u001b[0;34m=\u001b[0m \u001b[0mmixture\u001b[0m\u001b[0;34m.\u001b[0m\u001b[0mGaussianMixture\u001b[0m\u001b[0;34m(\u001b[0m\u001b[0mn_components\u001b[0m\u001b[0;34m=\u001b[0m\u001b[0mself\u001b[0m\u001b[0;34m.\u001b[0m\u001b[0mn_gauss\u001b[0m\u001b[0;34m,\u001b[0m \u001b[0mmax_iter\u001b[0m\u001b[0;34m=\u001b[0m\u001b[0;36m500\u001b[0m\u001b[0;34m)\u001b[0m\u001b[0;34m.\u001b[0m\u001b[0mfit\u001b[0m\u001b[0;34m(\u001b[0m\u001b[0mself\u001b[0m\u001b[0;34m.\u001b[0m\u001b[0mdata\u001b[0m\u001b[0;34m)\u001b[0m\u001b[0;34m\u001b[0m\u001b[0m\n\u001b[0m\u001b[1;32m     52\u001b[0m         \u001b[0mself\u001b[0m\u001b[0;34m.\u001b[0m\u001b[0mmu\u001b[0m \u001b[0;34m=\u001b[0m \u001b[0mself\u001b[0m\u001b[0;34m.\u001b[0m\u001b[0mgmm\u001b[0m\u001b[0;34m.\u001b[0m\u001b[0mmeans_\u001b[0m\u001b[0;34m\u001b[0m\u001b[0m\n\u001b[1;32m     53\u001b[0m         \u001b[0mself\u001b[0m\u001b[0;34m.\u001b[0m\u001b[0msigma\u001b[0m \u001b[0;34m=\u001b[0m \u001b[0mself\u001b[0m\u001b[0;34m.\u001b[0m\u001b[0mgmm\u001b[0m\u001b[0;34m.\u001b[0m\u001b[0mcovariances_\u001b[0m\u001b[0;34m\u001b[0m\u001b[0m\n",
      "\u001b[0;32m/usr/local/lib/python2.7/dist-packages/sklearn/mixture/base.pyc\u001b[0m in \u001b[0;36mfit\u001b[0;34m(self, X, y)\u001b[0m\n\u001b[1;32m    205\u001b[0m \u001b[0;34m\u001b[0m\u001b[0m\n\u001b[1;32m    206\u001b[0m             \u001b[0;32mif\u001b[0m \u001b[0mdo_init\u001b[0m\u001b[0;34m:\u001b[0m\u001b[0;34m\u001b[0m\u001b[0m\n\u001b[0;32m--> 207\u001b[0;31m                 \u001b[0mself\u001b[0m\u001b[0;34m.\u001b[0m\u001b[0m_initialize_parameters\u001b[0m\u001b[0;34m(\u001b[0m\u001b[0mX\u001b[0m\u001b[0;34m,\u001b[0m \u001b[0mrandom_state\u001b[0m\u001b[0;34m)\u001b[0m\u001b[0;34m\u001b[0m\u001b[0m\n\u001b[0m\u001b[1;32m    208\u001b[0m                 \u001b[0mself\u001b[0m\u001b[0;34m.\u001b[0m\u001b[0mlower_bound_\u001b[0m \u001b[0;34m=\u001b[0m \u001b[0;34m-\u001b[0m\u001b[0mnp\u001b[0m\u001b[0;34m.\u001b[0m\u001b[0minfty\u001b[0m\u001b[0;34m\u001b[0m\u001b[0m\n\u001b[1;32m    209\u001b[0m \u001b[0;34m\u001b[0m\u001b[0m\n",
      "\u001b[0;32m/usr/local/lib/python2.7/dist-packages/sklearn/mixture/base.pyc\u001b[0m in \u001b[0;36m_initialize_parameters\u001b[0;34m(self, X, random_state)\u001b[0m\n\u001b[1;32m    146\u001b[0m             \u001b[0mresp\u001b[0m \u001b[0;34m=\u001b[0m \u001b[0mnp\u001b[0m\u001b[0;34m.\u001b[0m\u001b[0mzeros\u001b[0m\u001b[0;34m(\u001b[0m\u001b[0;34m(\u001b[0m\u001b[0mn_samples\u001b[0m\u001b[0;34m,\u001b[0m \u001b[0mself\u001b[0m\u001b[0;34m.\u001b[0m\u001b[0mn_components\u001b[0m\u001b[0;34m)\u001b[0m\u001b[0;34m)\u001b[0m\u001b[0;34m\u001b[0m\u001b[0m\n\u001b[1;32m    147\u001b[0m             label = cluster.KMeans(n_clusters=self.n_components, n_init=1,\n\u001b[0;32m--> 148\u001b[0;31m                                    random_state=random_state).fit(X).labels_\n\u001b[0m\u001b[1;32m    149\u001b[0m             \u001b[0mresp\u001b[0m\u001b[0;34m[\u001b[0m\u001b[0mnp\u001b[0m\u001b[0;34m.\u001b[0m\u001b[0marange\u001b[0m\u001b[0;34m(\u001b[0m\u001b[0mn_samples\u001b[0m\u001b[0;34m)\u001b[0m\u001b[0;34m,\u001b[0m \u001b[0mlabel\u001b[0m\u001b[0;34m]\u001b[0m \u001b[0;34m=\u001b[0m \u001b[0;36m1\u001b[0m\u001b[0;34m\u001b[0m\u001b[0m\n\u001b[1;32m    150\u001b[0m         \u001b[0;32melif\u001b[0m \u001b[0mself\u001b[0m\u001b[0;34m.\u001b[0m\u001b[0minit_params\u001b[0m \u001b[0;34m==\u001b[0m \u001b[0;34m'random'\u001b[0m\u001b[0;34m:\u001b[0m\u001b[0;34m\u001b[0m\u001b[0m\n",
      "\u001b[0;32m/usr/local/lib/python2.7/dist-packages/sklearn/cluster/k_means_.pyc\u001b[0m in \u001b[0;36mfit\u001b[0;34m(self, X, y)\u001b[0m\n\u001b[1;32m    891\u001b[0m                 \u001b[0mtol\u001b[0m\u001b[0;34m=\u001b[0m\u001b[0mself\u001b[0m\u001b[0;34m.\u001b[0m\u001b[0mtol\u001b[0m\u001b[0;34m,\u001b[0m \u001b[0mrandom_state\u001b[0m\u001b[0;34m=\u001b[0m\u001b[0mrandom_state\u001b[0m\u001b[0;34m,\u001b[0m \u001b[0mcopy_x\u001b[0m\u001b[0;34m=\u001b[0m\u001b[0mself\u001b[0m\u001b[0;34m.\u001b[0m\u001b[0mcopy_x\u001b[0m\u001b[0;34m,\u001b[0m\u001b[0;34m\u001b[0m\u001b[0m\n\u001b[1;32m    892\u001b[0m                 \u001b[0mn_jobs\u001b[0m\u001b[0;34m=\u001b[0m\u001b[0mself\u001b[0m\u001b[0;34m.\u001b[0m\u001b[0mn_jobs\u001b[0m\u001b[0;34m,\u001b[0m \u001b[0malgorithm\u001b[0m\u001b[0;34m=\u001b[0m\u001b[0mself\u001b[0m\u001b[0;34m.\u001b[0m\u001b[0malgorithm\u001b[0m\u001b[0;34m,\u001b[0m\u001b[0;34m\u001b[0m\u001b[0m\n\u001b[0;32m--> 893\u001b[0;31m                 return_n_iter=True)\n\u001b[0m\u001b[1;32m    894\u001b[0m         \u001b[0;32mreturn\u001b[0m \u001b[0mself\u001b[0m\u001b[0;34m\u001b[0m\u001b[0m\n\u001b[1;32m    895\u001b[0m \u001b[0;34m\u001b[0m\u001b[0m\n",
      "\u001b[0;32m/usr/local/lib/python2.7/dist-packages/sklearn/cluster/k_means_.pyc\u001b[0m in \u001b[0;36mk_means\u001b[0;34m(X, n_clusters, init, precompute_distances, n_init, max_iter, verbose, tol, random_state, copy_x, n_jobs, algorithm, return_n_iter)\u001b[0m\n\u001b[1;32m    344\u001b[0m                 \u001b[0mX\u001b[0m\u001b[0;34m,\u001b[0m \u001b[0mn_clusters\u001b[0m\u001b[0;34m,\u001b[0m \u001b[0mmax_iter\u001b[0m\u001b[0;34m=\u001b[0m\u001b[0mmax_iter\u001b[0m\u001b[0;34m,\u001b[0m \u001b[0minit\u001b[0m\u001b[0;34m=\u001b[0m\u001b[0minit\u001b[0m\u001b[0;34m,\u001b[0m \u001b[0mverbose\u001b[0m\u001b[0;34m=\u001b[0m\u001b[0mverbose\u001b[0m\u001b[0;34m,\u001b[0m\u001b[0;34m\u001b[0m\u001b[0m\n\u001b[1;32m    345\u001b[0m                 \u001b[0mprecompute_distances\u001b[0m\u001b[0;34m=\u001b[0m\u001b[0mprecompute_distances\u001b[0m\u001b[0;34m,\u001b[0m \u001b[0mtol\u001b[0m\u001b[0;34m=\u001b[0m\u001b[0mtol\u001b[0m\u001b[0;34m,\u001b[0m\u001b[0;34m\u001b[0m\u001b[0m\n\u001b[0;32m--> 346\u001b[0;31m                 x_squared_norms=x_squared_norms, random_state=random_state)\n\u001b[0m\u001b[1;32m    347\u001b[0m             \u001b[0;31m# determine if these results are the best so far\u001b[0m\u001b[0;34m\u001b[0m\u001b[0;34m\u001b[0m\u001b[0m\n\u001b[1;32m    348\u001b[0m             \u001b[0;32mif\u001b[0m \u001b[0mbest_inertia\u001b[0m \u001b[0;32mis\u001b[0m \u001b[0mNone\u001b[0m \u001b[0;32mor\u001b[0m \u001b[0minertia\u001b[0m \u001b[0;34m<\u001b[0m \u001b[0mbest_inertia\u001b[0m\u001b[0;34m:\u001b[0m\u001b[0;34m\u001b[0m\u001b[0m\n",
      "\u001b[0;32m/usr/local/lib/python2.7/dist-packages/sklearn/cluster/k_means_.pyc\u001b[0m in \u001b[0;36m_kmeans_single_elkan\u001b[0;34m(X, n_clusters, max_iter, init, verbose, x_squared_norms, random_state, tol, precompute_distances)\u001b[0m\n\u001b[1;32m    398\u001b[0m         \u001b[0;32mprint\u001b[0m\u001b[0;34m(\u001b[0m\u001b[0;34m'Initialization complete'\u001b[0m\u001b[0;34m)\u001b[0m\u001b[0;34m\u001b[0m\u001b[0m\n\u001b[1;32m    399\u001b[0m     centers, labels, n_iter = k_means_elkan(X, n_clusters, centers, tol=tol,\n\u001b[0;32m--> 400\u001b[0;31m                                             max_iter=max_iter, verbose=verbose)\n\u001b[0m\u001b[1;32m    401\u001b[0m     \u001b[0minertia\u001b[0m \u001b[0;34m=\u001b[0m \u001b[0mnp\u001b[0m\u001b[0;34m.\u001b[0m\u001b[0msum\u001b[0m\u001b[0;34m(\u001b[0m\u001b[0;34m(\u001b[0m\u001b[0mX\u001b[0m \u001b[0;34m-\u001b[0m \u001b[0mcenters\u001b[0m\u001b[0;34m[\u001b[0m\u001b[0mlabels\u001b[0m\u001b[0;34m]\u001b[0m\u001b[0;34m)\u001b[0m \u001b[0;34m**\u001b[0m \u001b[0;36m2\u001b[0m\u001b[0;34m,\u001b[0m \u001b[0mdtype\u001b[0m\u001b[0;34m=\u001b[0m\u001b[0mnp\u001b[0m\u001b[0;34m.\u001b[0m\u001b[0mfloat64\u001b[0m\u001b[0;34m)\u001b[0m\u001b[0;34m\u001b[0m\u001b[0m\n\u001b[1;32m    402\u001b[0m     \u001b[0;32mreturn\u001b[0m \u001b[0mlabels\u001b[0m\u001b[0;34m,\u001b[0m \u001b[0minertia\u001b[0m\u001b[0;34m,\u001b[0m \u001b[0mcenters\u001b[0m\u001b[0;34m,\u001b[0m \u001b[0mn_iter\u001b[0m\u001b[0;34m\u001b[0m\u001b[0m\n",
      "\u001b[0;32msklearn/cluster/_k_means_elkan.pyx\u001b[0m in \u001b[0;36msklearn.cluster._k_means_elkan.k_means_elkan (sklearn/cluster/_k_means_elkan.c:7383)\u001b[0;34m()\u001b[0m\n",
      "\u001b[0;31mMemoryError\u001b[0m: "
     ]
    }
   ],
   "source": [
    "model.train()\n",
    "\n",
    "model.run()\n",
    "\n",
    "model.print_times()\n",
    "\n",
    "#model.print_statistics()\n",
    "\n",
    "model.print_final_space()"
   ]
  },
  {
   "cell_type": "code",
   "execution_count": 31,
   "metadata": {
    "collapsed": false
   },
   "outputs": [
    {
     "name": "stdout",
     "output_type": "stream",
     "text": [
      "6483128.88183 0.0\n",
      "Not normal distribution\n"
     ]
    }
   ],
   "source": [
    "model.test_normality(2)"
   ]
  },
  {
   "cell_type": "code",
   "execution_count": 61,
   "metadata": {
    "collapsed": false
   },
   "outputs": [
    {
     "name": "stdout",
     "output_type": "stream",
     "text": [
      "50 -  5000 / 5000"
     ]
    },
    {
     "data": {
      "image/png": "[encoded data removed]",
      "text/plain": [
       "<matplotlib.figure.Figure at 0x7fdb60b33ad0>"
      ]
     },
     "metadata": {},
     "output_type": "display_data"
    },
    {
     "name": "stdout",
     "output_type": "stream",
     "text": [
      "\n"
     ]
    }
   ],
   "source": [
    "def plot_gauss(n, repeat, dataset, e):\n",
    "    x = [i+1 for i in range(n)]\n",
    "    y = []\n",
    "    for i in x:\n",
    "        model = MyModel(n_gauss=i, err=e)\n",
    "        model.load_data(dataset)\n",
    "        mean = 0\n",
    "        for j in range(repeat):\n",
    "            model.train()\n",
    "            model.run(prefix='{} - '.format(i))\n",
    "            mean += model.relative_final_space\n",
    "        y.append(mean/repeat)\n",
    "    \n",
    "    plt.plot(x, y)\n",
    "    plt.show()\n",
    "\n",
    "plot_gauss(50, 10, 'tpc-h-5k', 0.01)\n",
    "        "
   ]
  },
  {
   "cell_type": "code",
   "execution_count": 8,
   "metadata": {
    "collapsed": false
   },
   "outputs": [
    {
     "name": "stdout",
     "output_type": "stream",
     "text": [
      "10 -  150 / 150"
     ]
    },
    {
     "data": {
      "image/png": "[encoded data removed]",
      "text/plain": [
       "<matplotlib.figure.Figure at 0x7f0a6d6dfd50>"
      ]
     },
     "metadata": {},
     "output_type": "display_data"
    },
    {
     "name": "stdout",
     "output_type": "stream",
     "text": [
      "\n"
     ]
    }
   ],
   "source": [
    "def plot_gauss(n, repeat, dataset, e):\n",
    "    x = [i+1 for i in range(n)]\n",
    "    y = []\n",
    "    for i in x:\n",
    "        model = MyModel(n_gauss=i, err=e)\n",
    "        model.load_data(dataset)\n",
    "        mean = 0\n",
    "        for j in range(repeat):\n",
    "            model.train()\n",
    "            model.run(prefix='{} - '.format(i))\n",
    "            mean += model.relative_final_space\n",
    "        y.append(100 - mean/repeat)\n",
    "    \n",
    "    plt.plot(x, y)\n",
    "    plt.show()\n",
    "\n",
    "plot_gauss(10, 10, 'iris', 0.05)"
   ]
  },
  {
   "cell_type": "code",
   "execution_count": null,
   "metadata": {
    "collapsed": true
   },
   "outputs": [],
   "source": []
  }
 ],
 "metadata": {
  "kernelspec": {
   "display_name": "Python 2",
   "language": "python",
   "name": "python2"
  },
  "language_info": {
   "codemirror_mode": {
    "name": "ipython",
    "version": 2
   },
   "file_extension": ".py",
   "mimetype": "text/x-python",
   "name": "python",
   "nbconvert_exporter": "python",
   "pygments_lexer": "ipython2",
   "version": "2.7.6"
  }
 },
 "nbformat": 4,
 "nbformat_minor": 1
}
